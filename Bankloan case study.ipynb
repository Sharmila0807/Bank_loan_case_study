{
 "cells": [
  {
   "cell_type": "code",
   "execution_count": 113,
   "id": "9283ba5d",
   "metadata": {},
   "outputs": [],
   "source": [
    "#importing all the libraries needed\n",
    "import numpy as np\n",
    "import pandas as pd\n",
    "import matplotlib.pyplot as plt\n",
    "import seaborn as sns"
   ]
  },
  {
   "cell_type": "code",
   "execution_count": 114,
   "id": "d73570ef",
   "metadata": {},
   "outputs": [
    {
     "data": {
      "text/html": [
       "<div>\n",
       "<style scoped>\n",
       "    .dataframe tbody tr th:only-of-type {\n",
       "        vertical-align: middle;\n",
       "    }\n",
       "\n",
       "    .dataframe tbody tr th {\n",
       "        vertical-align: top;\n",
       "    }\n",
       "\n",
       "    .dataframe thead th {\n",
       "        text-align: right;\n",
       "    }\n",
       "</style>\n",
       "<table border=\"1\" class=\"dataframe\">\n",
       "  <thead>\n",
       "    <tr style=\"text-align: right;\">\n",
       "      <th></th>\n",
       "      <th>SK_ID_CURR</th>\n",
       "      <th>TARGET</th>\n",
       "      <th>NAME_CONTRACT_TYPE</th>\n",
       "      <th>CODE_GENDER</th>\n",
       "      <th>FLAG_OWN_CAR</th>\n",
       "      <th>FLAG_OWN_REALTY</th>\n",
       "      <th>CNT_CHILDREN</th>\n",
       "      <th>AMT_INCOME_TOTAL</th>\n",
       "      <th>AMT_CREDIT</th>\n",
       "      <th>AMT_ANNUITY</th>\n",
       "      <th>...</th>\n",
       "      <th>FLAG_DOCUMENT_18</th>\n",
       "      <th>FLAG_DOCUMENT_19</th>\n",
       "      <th>FLAG_DOCUMENT_20</th>\n",
       "      <th>FLAG_DOCUMENT_21</th>\n",
       "      <th>AMT_REQ_CREDIT_BUREAU_HOUR</th>\n",
       "      <th>AMT_REQ_CREDIT_BUREAU_DAY</th>\n",
       "      <th>AMT_REQ_CREDIT_BUREAU_WEEK</th>\n",
       "      <th>AMT_REQ_CREDIT_BUREAU_MON</th>\n",
       "      <th>AMT_REQ_CREDIT_BUREAU_QRT</th>\n",
       "      <th>AMT_REQ_CREDIT_BUREAU_YEAR</th>\n",
       "    </tr>\n",
       "  </thead>\n",
       "  <tbody>\n",
       "    <tr>\n",
       "      <th>0</th>\n",
       "      <td>100002</td>\n",
       "      <td>1</td>\n",
       "      <td>Cash loans</td>\n",
       "      <td>M</td>\n",
       "      <td>N</td>\n",
       "      <td>Y</td>\n",
       "      <td>0</td>\n",
       "      <td>202500.0</td>\n",
       "      <td>406597.5</td>\n",
       "      <td>24700.5</td>\n",
       "      <td>...</td>\n",
       "      <td>0</td>\n",
       "      <td>0</td>\n",
       "      <td>0</td>\n",
       "      <td>0</td>\n",
       "      <td>0.0</td>\n",
       "      <td>0.0</td>\n",
       "      <td>0.0</td>\n",
       "      <td>0.0</td>\n",
       "      <td>0.0</td>\n",
       "      <td>1.0</td>\n",
       "    </tr>\n",
       "    <tr>\n",
       "      <th>1</th>\n",
       "      <td>100003</td>\n",
       "      <td>0</td>\n",
       "      <td>Cash loans</td>\n",
       "      <td>F</td>\n",
       "      <td>N</td>\n",
       "      <td>N</td>\n",
       "      <td>0</td>\n",
       "      <td>270000.0</td>\n",
       "      <td>1293502.5</td>\n",
       "      <td>35698.5</td>\n",
       "      <td>...</td>\n",
       "      <td>0</td>\n",
       "      <td>0</td>\n",
       "      <td>0</td>\n",
       "      <td>0</td>\n",
       "      <td>0.0</td>\n",
       "      <td>0.0</td>\n",
       "      <td>0.0</td>\n",
       "      <td>0.0</td>\n",
       "      <td>0.0</td>\n",
       "      <td>0.0</td>\n",
       "    </tr>\n",
       "    <tr>\n",
       "      <th>2</th>\n",
       "      <td>100004</td>\n",
       "      <td>0</td>\n",
       "      <td>Revolving loans</td>\n",
       "      <td>M</td>\n",
       "      <td>Y</td>\n",
       "      <td>Y</td>\n",
       "      <td>0</td>\n",
       "      <td>67500.0</td>\n",
       "      <td>135000.0</td>\n",
       "      <td>6750.0</td>\n",
       "      <td>...</td>\n",
       "      <td>0</td>\n",
       "      <td>0</td>\n",
       "      <td>0</td>\n",
       "      <td>0</td>\n",
       "      <td>0.0</td>\n",
       "      <td>0.0</td>\n",
       "      <td>0.0</td>\n",
       "      <td>0.0</td>\n",
       "      <td>0.0</td>\n",
       "      <td>0.0</td>\n",
       "    </tr>\n",
       "    <tr>\n",
       "      <th>3</th>\n",
       "      <td>100006</td>\n",
       "      <td>0</td>\n",
       "      <td>Cash loans</td>\n",
       "      <td>F</td>\n",
       "      <td>N</td>\n",
       "      <td>Y</td>\n",
       "      <td>0</td>\n",
       "      <td>135000.0</td>\n",
       "      <td>312682.5</td>\n",
       "      <td>29686.5</td>\n",
       "      <td>...</td>\n",
       "      <td>0</td>\n",
       "      <td>0</td>\n",
       "      <td>0</td>\n",
       "      <td>0</td>\n",
       "      <td>NaN</td>\n",
       "      <td>NaN</td>\n",
       "      <td>NaN</td>\n",
       "      <td>NaN</td>\n",
       "      <td>NaN</td>\n",
       "      <td>NaN</td>\n",
       "    </tr>\n",
       "    <tr>\n",
       "      <th>4</th>\n",
       "      <td>100007</td>\n",
       "      <td>0</td>\n",
       "      <td>Cash loans</td>\n",
       "      <td>M</td>\n",
       "      <td>N</td>\n",
       "      <td>Y</td>\n",
       "      <td>0</td>\n",
       "      <td>121500.0</td>\n",
       "      <td>513000.0</td>\n",
       "      <td>21865.5</td>\n",
       "      <td>...</td>\n",
       "      <td>0</td>\n",
       "      <td>0</td>\n",
       "      <td>0</td>\n",
       "      <td>0</td>\n",
       "      <td>0.0</td>\n",
       "      <td>0.0</td>\n",
       "      <td>0.0</td>\n",
       "      <td>0.0</td>\n",
       "      <td>0.0</td>\n",
       "      <td>0.0</td>\n",
       "    </tr>\n",
       "  </tbody>\n",
       "</table>\n",
       "<p>5 rows × 122 columns</p>\n",
       "</div>"
      ],
      "text/plain": [
       "   SK_ID_CURR  TARGET NAME_CONTRACT_TYPE CODE_GENDER FLAG_OWN_CAR  \\\n",
       "0      100002       1         Cash loans           M            N   \n",
       "1      100003       0         Cash loans           F            N   \n",
       "2      100004       0    Revolving loans           M            Y   \n",
       "3      100006       0         Cash loans           F            N   \n",
       "4      100007       0         Cash loans           M            N   \n",
       "\n",
       "  FLAG_OWN_REALTY  CNT_CHILDREN  AMT_INCOME_TOTAL  AMT_CREDIT  AMT_ANNUITY  \\\n",
       "0               Y             0          202500.0    406597.5      24700.5   \n",
       "1               N             0          270000.0   1293502.5      35698.5   \n",
       "2               Y             0           67500.0    135000.0       6750.0   \n",
       "3               Y             0          135000.0    312682.5      29686.5   \n",
       "4               Y             0          121500.0    513000.0      21865.5   \n",
       "\n",
       "   ...  FLAG_DOCUMENT_18 FLAG_DOCUMENT_19 FLAG_DOCUMENT_20 FLAG_DOCUMENT_21  \\\n",
       "0  ...                 0                0                0                0   \n",
       "1  ...                 0                0                0                0   \n",
       "2  ...                 0                0                0                0   \n",
       "3  ...                 0                0                0                0   \n",
       "4  ...                 0                0                0                0   \n",
       "\n",
       "  AMT_REQ_CREDIT_BUREAU_HOUR AMT_REQ_CREDIT_BUREAU_DAY  \\\n",
       "0                        0.0                       0.0   \n",
       "1                        0.0                       0.0   \n",
       "2                        0.0                       0.0   \n",
       "3                        NaN                       NaN   \n",
       "4                        0.0                       0.0   \n",
       "\n",
       "   AMT_REQ_CREDIT_BUREAU_WEEK  AMT_REQ_CREDIT_BUREAU_MON  \\\n",
       "0                         0.0                        0.0   \n",
       "1                         0.0                        0.0   \n",
       "2                         0.0                        0.0   \n",
       "3                         NaN                        NaN   \n",
       "4                         0.0                        0.0   \n",
       "\n",
       "   AMT_REQ_CREDIT_BUREAU_QRT  AMT_REQ_CREDIT_BUREAU_YEAR  \n",
       "0                        0.0                         1.0  \n",
       "1                        0.0                         0.0  \n",
       "2                        0.0                         0.0  \n",
       "3                        NaN                         NaN  \n",
       "4                        0.0                         0.0  \n",
       "\n",
       "[5 rows x 122 columns]"
      ]
     },
     "execution_count": 114,
     "metadata": {},
     "output_type": "execute_result"
    }
   ],
   "source": [
    "#read the dataset files :Dataset 1 - \"application_data.csv\"\n",
    "df_application = pd.read_csv('application_data.csv')\n",
    "df_application.head()\n"
   ]
  },
  {
   "cell_type": "code",
   "execution_count": 115,
   "id": "371826a9",
   "metadata": {},
   "outputs": [
    {
     "data": {
      "text/html": [
       "<div>\n",
       "<style scoped>\n",
       "    .dataframe tbody tr th:only-of-type {\n",
       "        vertical-align: middle;\n",
       "    }\n",
       "\n",
       "    .dataframe tbody tr th {\n",
       "        vertical-align: top;\n",
       "    }\n",
       "\n",
       "    .dataframe thead th {\n",
       "        text-align: right;\n",
       "    }\n",
       "</style>\n",
       "<table border=\"1\" class=\"dataframe\">\n",
       "  <thead>\n",
       "    <tr style=\"text-align: right;\">\n",
       "      <th></th>\n",
       "      <th>SK_ID_PREV</th>\n",
       "      <th>SK_ID_CURR</th>\n",
       "      <th>NAME_CONTRACT_TYPE</th>\n",
       "      <th>AMT_ANNUITY</th>\n",
       "      <th>AMT_APPLICATION</th>\n",
       "      <th>AMT_CREDIT</th>\n",
       "      <th>AMT_DOWN_PAYMENT</th>\n",
       "      <th>AMT_GOODS_PRICE</th>\n",
       "      <th>WEEKDAY_APPR_PROCESS_START</th>\n",
       "      <th>HOUR_APPR_PROCESS_START</th>\n",
       "      <th>...</th>\n",
       "      <th>NAME_SELLER_INDUSTRY</th>\n",
       "      <th>CNT_PAYMENT</th>\n",
       "      <th>NAME_YIELD_GROUP</th>\n",
       "      <th>PRODUCT_COMBINATION</th>\n",
       "      <th>DAYS_FIRST_DRAWING</th>\n",
       "      <th>DAYS_FIRST_DUE</th>\n",
       "      <th>DAYS_LAST_DUE_1ST_VERSION</th>\n",
       "      <th>DAYS_LAST_DUE</th>\n",
       "      <th>DAYS_TERMINATION</th>\n",
       "      <th>NFLAG_INSURED_ON_APPROVAL</th>\n",
       "    </tr>\n",
       "  </thead>\n",
       "  <tbody>\n",
       "    <tr>\n",
       "      <th>0</th>\n",
       "      <td>2030495</td>\n",
       "      <td>271877</td>\n",
       "      <td>Consumer loans</td>\n",
       "      <td>1730.430</td>\n",
       "      <td>17145.0</td>\n",
       "      <td>17145.0</td>\n",
       "      <td>0.0</td>\n",
       "      <td>17145.0</td>\n",
       "      <td>SATURDAY</td>\n",
       "      <td>15</td>\n",
       "      <td>...</td>\n",
       "      <td>Connectivity</td>\n",
       "      <td>12.0</td>\n",
       "      <td>middle</td>\n",
       "      <td>POS mobile with interest</td>\n",
       "      <td>365243.0</td>\n",
       "      <td>-42.0</td>\n",
       "      <td>300.0</td>\n",
       "      <td>-42.0</td>\n",
       "      <td>-37.0</td>\n",
       "      <td>0.0</td>\n",
       "    </tr>\n",
       "    <tr>\n",
       "      <th>1</th>\n",
       "      <td>2802425</td>\n",
       "      <td>108129</td>\n",
       "      <td>Cash loans</td>\n",
       "      <td>25188.615</td>\n",
       "      <td>607500.0</td>\n",
       "      <td>679671.0</td>\n",
       "      <td>NaN</td>\n",
       "      <td>607500.0</td>\n",
       "      <td>THURSDAY</td>\n",
       "      <td>11</td>\n",
       "      <td>...</td>\n",
       "      <td>XNA</td>\n",
       "      <td>36.0</td>\n",
       "      <td>low_action</td>\n",
       "      <td>Cash X-Sell: low</td>\n",
       "      <td>365243.0</td>\n",
       "      <td>-134.0</td>\n",
       "      <td>916.0</td>\n",
       "      <td>365243.0</td>\n",
       "      <td>365243.0</td>\n",
       "      <td>1.0</td>\n",
       "    </tr>\n",
       "    <tr>\n",
       "      <th>2</th>\n",
       "      <td>2523466</td>\n",
       "      <td>122040</td>\n",
       "      <td>Cash loans</td>\n",
       "      <td>15060.735</td>\n",
       "      <td>112500.0</td>\n",
       "      <td>136444.5</td>\n",
       "      <td>NaN</td>\n",
       "      <td>112500.0</td>\n",
       "      <td>TUESDAY</td>\n",
       "      <td>11</td>\n",
       "      <td>...</td>\n",
       "      <td>XNA</td>\n",
       "      <td>12.0</td>\n",
       "      <td>high</td>\n",
       "      <td>Cash X-Sell: high</td>\n",
       "      <td>365243.0</td>\n",
       "      <td>-271.0</td>\n",
       "      <td>59.0</td>\n",
       "      <td>365243.0</td>\n",
       "      <td>365243.0</td>\n",
       "      <td>1.0</td>\n",
       "    </tr>\n",
       "    <tr>\n",
       "      <th>3</th>\n",
       "      <td>2819243</td>\n",
       "      <td>176158</td>\n",
       "      <td>Cash loans</td>\n",
       "      <td>47041.335</td>\n",
       "      <td>450000.0</td>\n",
       "      <td>470790.0</td>\n",
       "      <td>NaN</td>\n",
       "      <td>450000.0</td>\n",
       "      <td>MONDAY</td>\n",
       "      <td>7</td>\n",
       "      <td>...</td>\n",
       "      <td>XNA</td>\n",
       "      <td>12.0</td>\n",
       "      <td>middle</td>\n",
       "      <td>Cash X-Sell: middle</td>\n",
       "      <td>365243.0</td>\n",
       "      <td>-482.0</td>\n",
       "      <td>-152.0</td>\n",
       "      <td>-182.0</td>\n",
       "      <td>-177.0</td>\n",
       "      <td>1.0</td>\n",
       "    </tr>\n",
       "    <tr>\n",
       "      <th>4</th>\n",
       "      <td>1784265</td>\n",
       "      <td>202054</td>\n",
       "      <td>Cash loans</td>\n",
       "      <td>31924.395</td>\n",
       "      <td>337500.0</td>\n",
       "      <td>404055.0</td>\n",
       "      <td>NaN</td>\n",
       "      <td>337500.0</td>\n",
       "      <td>THURSDAY</td>\n",
       "      <td>9</td>\n",
       "      <td>...</td>\n",
       "      <td>XNA</td>\n",
       "      <td>24.0</td>\n",
       "      <td>high</td>\n",
       "      <td>Cash Street: high</td>\n",
       "      <td>NaN</td>\n",
       "      <td>NaN</td>\n",
       "      <td>NaN</td>\n",
       "      <td>NaN</td>\n",
       "      <td>NaN</td>\n",
       "      <td>NaN</td>\n",
       "    </tr>\n",
       "  </tbody>\n",
       "</table>\n",
       "<p>5 rows × 37 columns</p>\n",
       "</div>"
      ],
      "text/plain": [
       "   SK_ID_PREV  SK_ID_CURR NAME_CONTRACT_TYPE  AMT_ANNUITY  AMT_APPLICATION  \\\n",
       "0     2030495      271877     Consumer loans     1730.430          17145.0   \n",
       "1     2802425      108129         Cash loans    25188.615         607500.0   \n",
       "2     2523466      122040         Cash loans    15060.735         112500.0   \n",
       "3     2819243      176158         Cash loans    47041.335         450000.0   \n",
       "4     1784265      202054         Cash loans    31924.395         337500.0   \n",
       "\n",
       "   AMT_CREDIT  AMT_DOWN_PAYMENT  AMT_GOODS_PRICE WEEKDAY_APPR_PROCESS_START  \\\n",
       "0     17145.0               0.0          17145.0                   SATURDAY   \n",
       "1    679671.0               NaN         607500.0                   THURSDAY   \n",
       "2    136444.5               NaN         112500.0                    TUESDAY   \n",
       "3    470790.0               NaN         450000.0                     MONDAY   \n",
       "4    404055.0               NaN         337500.0                   THURSDAY   \n",
       "\n",
       "   HOUR_APPR_PROCESS_START  ... NAME_SELLER_INDUSTRY  CNT_PAYMENT  \\\n",
       "0                       15  ...         Connectivity         12.0   \n",
       "1                       11  ...                  XNA         36.0   \n",
       "2                       11  ...                  XNA         12.0   \n",
       "3                        7  ...                  XNA         12.0   \n",
       "4                        9  ...                  XNA         24.0   \n",
       "\n",
       "   NAME_YIELD_GROUP       PRODUCT_COMBINATION  DAYS_FIRST_DRAWING  \\\n",
       "0            middle  POS mobile with interest            365243.0   \n",
       "1        low_action          Cash X-Sell: low            365243.0   \n",
       "2              high         Cash X-Sell: high            365243.0   \n",
       "3            middle       Cash X-Sell: middle            365243.0   \n",
       "4              high         Cash Street: high                 NaN   \n",
       "\n",
       "  DAYS_FIRST_DUE DAYS_LAST_DUE_1ST_VERSION  DAYS_LAST_DUE DAYS_TERMINATION  \\\n",
       "0          -42.0                     300.0          -42.0            -37.0   \n",
       "1         -134.0                     916.0       365243.0         365243.0   \n",
       "2         -271.0                      59.0       365243.0         365243.0   \n",
       "3         -482.0                    -152.0         -182.0           -177.0   \n",
       "4            NaN                       NaN            NaN              NaN   \n",
       "\n",
       "  NFLAG_INSURED_ON_APPROVAL  \n",
       "0                       0.0  \n",
       "1                       1.0  \n",
       "2                       1.0  \n",
       "3                       1.0  \n",
       "4                       NaN  \n",
       "\n",
       "[5 rows x 37 columns]"
      ]
     },
     "execution_count": 115,
     "metadata": {},
     "output_type": "execute_result"
    }
   ],
   "source": [
    "#read the dataset file :Dataset 2 - \"previous_application.csv\"\n",
    "df_previous_application = pd.read_csv('previous_application.csv')\n",
    "df_previous_application.head()"
   ]
  },
  {
   "cell_type": "code",
   "execution_count": 116,
   "id": "1cd215f7",
   "metadata": {},
   "outputs": [
    {
     "data": {
      "text/plain": [
       "SK_ID_CURR                       0\n",
       "TARGET                           0\n",
       "NAME_CONTRACT_TYPE               0\n",
       "CODE_GENDER                      0\n",
       "FLAG_OWN_CAR                     0\n",
       "                              ... \n",
       "AMT_REQ_CREDIT_BUREAU_DAY     6734\n",
       "AMT_REQ_CREDIT_BUREAU_WEEK    6734\n",
       "AMT_REQ_CREDIT_BUREAU_MON     6734\n",
       "AMT_REQ_CREDIT_BUREAU_QRT     6734\n",
       "AMT_REQ_CREDIT_BUREAU_YEAR    6734\n",
       "Length: 122, dtype: int64"
      ]
     },
     "execution_count": 116,
     "metadata": {},
     "output_type": "execute_result"
    }
   ],
   "source": [
    "#find out the number of null values in the dataset:\n",
    "df_application.isnull().sum()"
   ]
  },
  {
   "cell_type": "code",
   "execution_count": 117,
   "id": "83f7f177",
   "metadata": {},
   "outputs": [
    {
     "data": {
      "text/plain": [
       "COMMONAREA_MEDI             69.921\n",
       "COMMONAREA_AVG              69.921\n",
       "COMMONAREA_MODE             69.921\n",
       "NONLIVINGAPARTMENTS_MODE    69.429\n",
       "NONLIVINGAPARTMENTS_AVG     69.429\n",
       "                             ...  \n",
       "NAME_HOUSING_TYPE            0.000\n",
       "NAME_FAMILY_STATUS           0.000\n",
       "NAME_EDUCATION_TYPE          0.000\n",
       "NAME_INCOME_TYPE             0.000\n",
       "SK_ID_CURR                   0.000\n",
       "Length: 122, dtype: float64"
      ]
     },
     "execution_count": 117,
     "metadata": {},
     "output_type": "execute_result"
    }
   ],
   "source": [
    "#Checking Percentage of Null Value's in dataframe usning function\n",
    "def Missing_Values(df_application):\n",
    "    return round((df_application.isnull().sum()*100/len(df_application)).sort_values(ascending = False),3)\n",
    "Missing_Values(df_application)"
   ]
  },
  {
   "cell_type": "code",
   "execution_count": 118,
   "id": "57df0585",
   "metadata": {},
   "outputs": [
    {
     "data": {
      "text/plain": [
       "COMMONAREA_MEDI             69.921\n",
       "COMMONAREA_AVG              69.921\n",
       "COMMONAREA_MODE             69.921\n",
       "NONLIVINGAPARTMENTS_MODE    69.429\n",
       "NONLIVINGAPARTMENTS_AVG     69.429\n",
       "NONLIVINGAPARTMENTS_MEDI    69.429\n",
       "LIVINGAPARTMENTS_MODE       68.453\n",
       "LIVINGAPARTMENTS_AVG        68.453\n",
       "LIVINGAPARTMENTS_MEDI       68.453\n",
       "FONDKAPREMONT_MODE          68.383\n",
       "FLOORSMIN_AVG               67.789\n",
       "FLOORSMIN_MODE              67.789\n",
       "FLOORSMIN_MEDI              67.789\n",
       "YEARS_BUILD_MEDI            66.479\n",
       "YEARS_BUILD_MODE            66.479\n",
       "YEARS_BUILD_AVG             66.479\n",
       "OWN_CAR_AGE                 65.901\n",
       "LANDAREA_MEDI               59.443\n",
       "LANDAREA_MODE               59.443\n",
       "LANDAREA_AVG                59.443\n",
       "BASEMENTAREA_MEDI           58.399\n",
       "BASEMENTAREA_AVG            58.399\n",
       "BASEMENTAREA_MODE           58.399\n",
       "EXT_SOURCE_1                56.345\n",
       "NONLIVINGAREA_MODE          55.145\n",
       "NONLIVINGAREA_AVG           55.145\n",
       "NONLIVINGAREA_MEDI          55.145\n",
       "ELEVATORS_MEDI              53.303\n",
       "ELEVATORS_AVG               53.303\n",
       "ELEVATORS_MODE              53.303\n",
       "WALLSMATERIAL_MODE          50.919\n",
       "APARTMENTS_MEDI             50.771\n",
       "APARTMENTS_AVG              50.771\n",
       "APARTMENTS_MODE             50.771\n",
       "ENTRANCES_MEDI              50.391\n",
       "ENTRANCES_AVG               50.391\n",
       "ENTRANCES_MODE              50.391\n",
       "LIVINGAREA_AVG              50.275\n",
       "LIVINGAREA_MODE             50.275\n",
       "LIVINGAREA_MEDI             50.275\n",
       "HOUSETYPE_MODE              50.151\n",
       "dtype: float64"
      ]
     },
     "execution_count": 118,
     "metadata": {},
     "output_type": "execute_result"
    }
   ],
   "source": [
    "#storing it in a variable which contains more than 50% missing values:\n",
    "Null=Missing_Values(df_application)[Missing_Values(df_application) > 50]\n",
    "Null"
   ]
  },
  {
   "cell_type": "code",
   "execution_count": 119,
   "id": "60e40626",
   "metadata": {},
   "outputs": [
    {
     "data": {
      "text/plain": [
       "Index(['COMMONAREA_MEDI', 'COMMONAREA_AVG', 'COMMONAREA_MODE',\n",
       "       'NONLIVINGAPARTMENTS_MODE', 'NONLIVINGAPARTMENTS_AVG',\n",
       "       'NONLIVINGAPARTMENTS_MEDI', 'LIVINGAPARTMENTS_MODE',\n",
       "       'LIVINGAPARTMENTS_AVG', 'LIVINGAPARTMENTS_MEDI', 'FONDKAPREMONT_MODE',\n",
       "       'FLOORSMIN_AVG', 'FLOORSMIN_MODE', 'FLOORSMIN_MEDI', 'YEARS_BUILD_MEDI',\n",
       "       'YEARS_BUILD_MODE', 'YEARS_BUILD_AVG', 'OWN_CAR_AGE', 'LANDAREA_MEDI',\n",
       "       'LANDAREA_MODE', 'LANDAREA_AVG', 'BASEMENTAREA_MEDI',\n",
       "       'BASEMENTAREA_AVG', 'BASEMENTAREA_MODE', 'EXT_SOURCE_1',\n",
       "       'NONLIVINGAREA_MODE', 'NONLIVINGAREA_AVG', 'NONLIVINGAREA_MEDI',\n",
       "       'ELEVATORS_MEDI', 'ELEVATORS_AVG', 'ELEVATORS_MODE',\n",
       "       'WALLSMATERIAL_MODE', 'APARTMENTS_MEDI', 'APARTMENTS_AVG',\n",
       "       'APARTMENTS_MODE', 'ENTRANCES_MEDI', 'ENTRANCES_AVG', 'ENTRANCES_MODE',\n",
       "       'LIVINGAREA_AVG', 'LIVINGAREA_MODE', 'LIVINGAREA_MEDI',\n",
       "       'HOUSETYPE_MODE'],\n",
       "      dtype='object')"
      ]
     },
     "execution_count": 119,
     "metadata": {},
     "output_type": "execute_result"
    }
   ],
   "source": [
    "#Dropping all those values since these have lots of missing data and it will disrupt the data\n",
    "Null.index"
   ]
  },
  {
   "cell_type": "code",
   "execution_count": 120,
   "id": "71da9998",
   "metadata": {},
   "outputs": [
    {
     "data": {
      "text/html": [
       "<div>\n",
       "<style scoped>\n",
       "    .dataframe tbody tr th:only-of-type {\n",
       "        vertical-align: middle;\n",
       "    }\n",
       "\n",
       "    .dataframe tbody tr th {\n",
       "        vertical-align: top;\n",
       "    }\n",
       "\n",
       "    .dataframe thead th {\n",
       "        text-align: right;\n",
       "    }\n",
       "</style>\n",
       "<table border=\"1\" class=\"dataframe\">\n",
       "  <thead>\n",
       "    <tr style=\"text-align: right;\">\n",
       "      <th></th>\n",
       "      <th>SK_ID_CURR</th>\n",
       "      <th>TARGET</th>\n",
       "      <th>NAME_CONTRACT_TYPE</th>\n",
       "      <th>CODE_GENDER</th>\n",
       "      <th>FLAG_OWN_CAR</th>\n",
       "      <th>FLAG_OWN_REALTY</th>\n",
       "      <th>CNT_CHILDREN</th>\n",
       "      <th>AMT_INCOME_TOTAL</th>\n",
       "      <th>AMT_CREDIT</th>\n",
       "      <th>AMT_ANNUITY</th>\n",
       "      <th>...</th>\n",
       "      <th>FLAG_DOCUMENT_18</th>\n",
       "      <th>FLAG_DOCUMENT_19</th>\n",
       "      <th>FLAG_DOCUMENT_20</th>\n",
       "      <th>FLAG_DOCUMENT_21</th>\n",
       "      <th>AMT_REQ_CREDIT_BUREAU_HOUR</th>\n",
       "      <th>AMT_REQ_CREDIT_BUREAU_DAY</th>\n",
       "      <th>AMT_REQ_CREDIT_BUREAU_WEEK</th>\n",
       "      <th>AMT_REQ_CREDIT_BUREAU_MON</th>\n",
       "      <th>AMT_REQ_CREDIT_BUREAU_QRT</th>\n",
       "      <th>AMT_REQ_CREDIT_BUREAU_YEAR</th>\n",
       "    </tr>\n",
       "  </thead>\n",
       "  <tbody>\n",
       "    <tr>\n",
       "      <th>0</th>\n",
       "      <td>100002</td>\n",
       "      <td>1</td>\n",
       "      <td>Cash loans</td>\n",
       "      <td>M</td>\n",
       "      <td>N</td>\n",
       "      <td>Y</td>\n",
       "      <td>0</td>\n",
       "      <td>202500.0</td>\n",
       "      <td>406597.5</td>\n",
       "      <td>24700.5</td>\n",
       "      <td>...</td>\n",
       "      <td>0</td>\n",
       "      <td>0</td>\n",
       "      <td>0</td>\n",
       "      <td>0</td>\n",
       "      <td>0.0</td>\n",
       "      <td>0.0</td>\n",
       "      <td>0.0</td>\n",
       "      <td>0.0</td>\n",
       "      <td>0.0</td>\n",
       "      <td>1.0</td>\n",
       "    </tr>\n",
       "    <tr>\n",
       "      <th>1</th>\n",
       "      <td>100003</td>\n",
       "      <td>0</td>\n",
       "      <td>Cash loans</td>\n",
       "      <td>F</td>\n",
       "      <td>N</td>\n",
       "      <td>N</td>\n",
       "      <td>0</td>\n",
       "      <td>270000.0</td>\n",
       "      <td>1293502.5</td>\n",
       "      <td>35698.5</td>\n",
       "      <td>...</td>\n",
       "      <td>0</td>\n",
       "      <td>0</td>\n",
       "      <td>0</td>\n",
       "      <td>0</td>\n",
       "      <td>0.0</td>\n",
       "      <td>0.0</td>\n",
       "      <td>0.0</td>\n",
       "      <td>0.0</td>\n",
       "      <td>0.0</td>\n",
       "      <td>0.0</td>\n",
       "    </tr>\n",
       "    <tr>\n",
       "      <th>2</th>\n",
       "      <td>100004</td>\n",
       "      <td>0</td>\n",
       "      <td>Revolving loans</td>\n",
       "      <td>M</td>\n",
       "      <td>Y</td>\n",
       "      <td>Y</td>\n",
       "      <td>0</td>\n",
       "      <td>67500.0</td>\n",
       "      <td>135000.0</td>\n",
       "      <td>6750.0</td>\n",
       "      <td>...</td>\n",
       "      <td>0</td>\n",
       "      <td>0</td>\n",
       "      <td>0</td>\n",
       "      <td>0</td>\n",
       "      <td>0.0</td>\n",
       "      <td>0.0</td>\n",
       "      <td>0.0</td>\n",
       "      <td>0.0</td>\n",
       "      <td>0.0</td>\n",
       "      <td>0.0</td>\n",
       "    </tr>\n",
       "    <tr>\n",
       "      <th>3</th>\n",
       "      <td>100006</td>\n",
       "      <td>0</td>\n",
       "      <td>Cash loans</td>\n",
       "      <td>F</td>\n",
       "      <td>N</td>\n",
       "      <td>Y</td>\n",
       "      <td>0</td>\n",
       "      <td>135000.0</td>\n",
       "      <td>312682.5</td>\n",
       "      <td>29686.5</td>\n",
       "      <td>...</td>\n",
       "      <td>0</td>\n",
       "      <td>0</td>\n",
       "      <td>0</td>\n",
       "      <td>0</td>\n",
       "      <td>NaN</td>\n",
       "      <td>NaN</td>\n",
       "      <td>NaN</td>\n",
       "      <td>NaN</td>\n",
       "      <td>NaN</td>\n",
       "      <td>NaN</td>\n",
       "    </tr>\n",
       "    <tr>\n",
       "      <th>4</th>\n",
       "      <td>100007</td>\n",
       "      <td>0</td>\n",
       "      <td>Cash loans</td>\n",
       "      <td>M</td>\n",
       "      <td>N</td>\n",
       "      <td>Y</td>\n",
       "      <td>0</td>\n",
       "      <td>121500.0</td>\n",
       "      <td>513000.0</td>\n",
       "      <td>21865.5</td>\n",
       "      <td>...</td>\n",
       "      <td>0</td>\n",
       "      <td>0</td>\n",
       "      <td>0</td>\n",
       "      <td>0</td>\n",
       "      <td>0.0</td>\n",
       "      <td>0.0</td>\n",
       "      <td>0.0</td>\n",
       "      <td>0.0</td>\n",
       "      <td>0.0</td>\n",
       "      <td>0.0</td>\n",
       "    </tr>\n",
       "  </tbody>\n",
       "</table>\n",
       "<p>5 rows × 81 columns</p>\n",
       "</div>"
      ],
      "text/plain": [
       "   SK_ID_CURR  TARGET NAME_CONTRACT_TYPE CODE_GENDER FLAG_OWN_CAR  \\\n",
       "0      100002       1         Cash loans           M            N   \n",
       "1      100003       0         Cash loans           F            N   \n",
       "2      100004       0    Revolving loans           M            Y   \n",
       "3      100006       0         Cash loans           F            N   \n",
       "4      100007       0         Cash loans           M            N   \n",
       "\n",
       "  FLAG_OWN_REALTY  CNT_CHILDREN  AMT_INCOME_TOTAL  AMT_CREDIT  AMT_ANNUITY  \\\n",
       "0               Y             0          202500.0    406597.5      24700.5   \n",
       "1               N             0          270000.0   1293502.5      35698.5   \n",
       "2               Y             0           67500.0    135000.0       6750.0   \n",
       "3               Y             0          135000.0    312682.5      29686.5   \n",
       "4               Y             0          121500.0    513000.0      21865.5   \n",
       "\n",
       "   ...  FLAG_DOCUMENT_18 FLAG_DOCUMENT_19 FLAG_DOCUMENT_20 FLAG_DOCUMENT_21  \\\n",
       "0  ...                 0                0                0                0   \n",
       "1  ...                 0                0                0                0   \n",
       "2  ...                 0                0                0                0   \n",
       "3  ...                 0                0                0                0   \n",
       "4  ...                 0                0                0                0   \n",
       "\n",
       "  AMT_REQ_CREDIT_BUREAU_HOUR AMT_REQ_CREDIT_BUREAU_DAY  \\\n",
       "0                        0.0                       0.0   \n",
       "1                        0.0                       0.0   \n",
       "2                        0.0                       0.0   \n",
       "3                        NaN                       NaN   \n",
       "4                        0.0                       0.0   \n",
       "\n",
       "   AMT_REQ_CREDIT_BUREAU_WEEK  AMT_REQ_CREDIT_BUREAU_MON  \\\n",
       "0                         0.0                        0.0   \n",
       "1                         0.0                        0.0   \n",
       "2                         0.0                        0.0   \n",
       "3                         NaN                        NaN   \n",
       "4                         0.0                        0.0   \n",
       "\n",
       "   AMT_REQ_CREDIT_BUREAU_QRT  AMT_REQ_CREDIT_BUREAU_YEAR  \n",
       "0                        0.0                         1.0  \n",
       "1                        0.0                         0.0  \n",
       "2                        0.0                         0.0  \n",
       "3                        NaN                         NaN  \n",
       "4                        0.0                         0.0  \n",
       "\n",
       "[5 rows x 81 columns]"
      ]
     },
     "execution_count": 120,
     "metadata": {},
     "output_type": "execute_result"
    }
   ],
   "source": [
    "#Droping all the colums having missing values >50%\n",
    "df_application.drop(columns=Null.index ,inplace=True)\n",
    "df_application.head()"
   ]
  },
  {
   "cell_type": "code",
   "execution_count": 121,
   "id": "bc90620a",
   "metadata": {},
   "outputs": [
    {
     "data": {
      "text/plain": [
       "FLOORSMAX_AVG                   49.751\n",
       "FLOORSMAX_MODE                  49.751\n",
       "FLOORSMAX_MEDI                  49.751\n",
       "YEARS_BEGINEXPLUATATION_AVG     48.789\n",
       "YEARS_BEGINEXPLUATATION_MODE    48.789\n",
       "YEARS_BEGINEXPLUATATION_MEDI    48.789\n",
       "TOTALAREA_MODE                  48.297\n",
       "EMERGENCYSTATE_MODE             47.397\n",
       "dtype: float64"
      ]
     },
     "execution_count": 121,
     "metadata": {},
     "output_type": "execute_result"
    }
   ],
   "source": [
    "#Checking the missing values above 40%\n",
    "Missing_Values(df_application)[Missing_Values(df_application)>40]"
   ]
  },
  {
   "cell_type": "code",
   "execution_count": 122,
   "id": "21e39efe",
   "metadata": {},
   "outputs": [
    {
     "data": {
      "text/plain": [
       "FLOORSMAX_AVG                   49.751\n",
       "FLOORSMAX_MODE                  49.751\n",
       "FLOORSMAX_MEDI                  49.751\n",
       "YEARS_BEGINEXPLUATATION_AVG     48.789\n",
       "YEARS_BEGINEXPLUATATION_MODE    48.789\n",
       "YEARS_BEGINEXPLUATATION_MEDI    48.789\n",
       "TOTALAREA_MODE                  48.297\n",
       "EMERGENCYSTATE_MODE             47.397\n",
       "dtype: float64"
      ]
     },
     "execution_count": 122,
     "metadata": {},
     "output_type": "execute_result"
    }
   ],
   "source": [
    "#Checking the percentage of missing values\n",
    "Null_1 = Missing_Values(df_application)[Missing_Values(df_application)>40]\n",
    "Null_1"
   ]
  },
  {
   "cell_type": "code",
   "execution_count": 123,
   "id": "45f72c2c",
   "metadata": {},
   "outputs": [
    {
     "name": "stdout",
     "output_type": "stream",
     "text": [
      "Null_1 dropped from the df_application\n"
     ]
    }
   ],
   "source": [
    "#Dropping the unnecessary columns from the datafame as they were not important\n",
    "df_application.drop(columns=Null_1.index ,inplace=True)\n",
    "print('Null_1 dropped from the df_application')"
   ]
  },
  {
   "cell_type": "code",
   "execution_count": 124,
   "id": "c6743ea4",
   "metadata": {},
   "outputs": [
    {
     "data": {
      "text/plain": [
       "SK_ID_CURR                       0\n",
       "TARGET                           0\n",
       "NAME_CONTRACT_TYPE               0\n",
       "CODE_GENDER                      0\n",
       "FLAG_OWN_CAR                     0\n",
       "                              ... \n",
       "AMT_REQ_CREDIT_BUREAU_DAY     6734\n",
       "AMT_REQ_CREDIT_BUREAU_WEEK    6734\n",
       "AMT_REQ_CREDIT_BUREAU_MON     6734\n",
       "AMT_REQ_CREDIT_BUREAU_QRT     6734\n",
       "AMT_REQ_CREDIT_BUREAU_YEAR    6734\n",
       "Length: 73, dtype: int64"
      ]
     },
     "execution_count": 124,
     "metadata": {},
     "output_type": "execute_result"
    }
   ],
   "source": [
    "#Checking the missing values in dataframe\n",
    "df_application.isnull().sum()"
   ]
  },
  {
   "cell_type": "code",
   "execution_count": 125,
   "id": "fb55a7ca",
   "metadata": {},
   "outputs": [
    {
     "data": {
      "text/plain": [
       "9000.0     1049\n",
       "13500.0     896\n",
       "6750.0      372\n",
       "10125.0     336\n",
       "37800.0     257\n",
       "           ... \n",
       "80194.5       1\n",
       "47871.0       1\n",
       "14935.5       1\n",
       "19539.0       1\n",
       "70357.5       1\n",
       "Name: AMT_ANNUITY, Length: 8807, dtype: int64"
      ]
     },
     "execution_count": 125,
     "metadata": {},
     "output_type": "execute_result"
    }
   ],
   "source": [
    "#Finding the value count of AMT_ANNUITY\n",
    "df_application.AMT_ANNUITY.value_counts()"
   ]
  },
  {
   "cell_type": "code",
   "execution_count": 126,
   "id": "6f8e6260",
   "metadata": {},
   "outputs": [
    {
     "name": "stderr",
     "output_type": "stream",
     "text": [
      "C:\\Sharmi\\lib\\site-packages\\seaborn\\_decorators.py:36: FutureWarning: Pass the following variable as a keyword arg: x. From version 0.12, the only valid positional argument will be `data`, and passing other arguments without an explicit keyword will result in an error or misinterpretation.\n",
      "  warnings.warn(\n"
     ]
    },
    {
     "data": {
      "image/png": "[encoded data removed]",
      "text/plain": [
       "<Figure size 640x480 with 1 Axes>"
      ]
     },
     "metadata": {},
     "output_type": "display_data"
    }
   ],
   "source": [
    "#Ploting a Box plot for AMT_ANNUITY to check the outliers\n",
    "sns.boxplot( df_application.AMT_ANNUITY)\n",
    "plt.show()"
   ]
  },
  {
   "cell_type": "code",
   "execution_count": 127,
   "id": "b4b3f034",
   "metadata": {},
   "outputs": [
    {
     "data": {
      "text/plain": [
       "24939.0"
      ]
     },
     "execution_count": 127,
     "metadata": {},
     "output_type": "execute_result"
    }
   ],
   "source": [
    "#Finding the null value count\n",
    "df_application.AMT_ANNUITY.median()"
   ]
  },
  {
   "cell_type": "code",
   "execution_count": 128,
   "id": "6fcdf948",
   "metadata": {},
   "outputs": [],
   "source": [
    "#Replacing the null values with median of AMT_ANNUITY, as we have outliers hence using mean will not be a correct imputation technique\n",
    "df_application['AMT_ANNUITY'] = df_application.AMT_ANNUITY.fillna(df_application.AMT_ANNUITY.median())"
   ]
  },
  {
   "cell_type": "code",
   "execution_count": 129,
   "id": "733a368b",
   "metadata": {},
   "outputs": [
    {
     "data": {
      "text/plain": [
       "450000.0     4211\n",
       "225000.0     4086\n",
       "675000.0     4076\n",
       "900000.0     2513\n",
       "270000.0     1878\n",
       "             ... \n",
       "862353.0        1\n",
       "378598.5        1\n",
       "482530.5        1\n",
       "2173500.0       1\n",
       "467874.0        1\n",
       "Name: AMT_GOODS_PRICE, Length: 519, dtype: int64"
      ]
     },
     "execution_count": 129,
     "metadata": {},
     "output_type": "execute_result"
    }
   ],
   "source": [
    "#Checking the value count of AMT_GOODS_PRICE\n",
    "df_application.AMT_GOODS_PRICE.value_counts()"
   ]
  },
  {
   "cell_type": "code",
   "execution_count": 130,
   "id": "8ff20556",
   "metadata": {},
   "outputs": [
    {
     "name": "stderr",
     "output_type": "stream",
     "text": [
      "C:\\Sharmi\\lib\\site-packages\\seaborn\\_decorators.py:36: FutureWarning: Pass the following variable as a keyword arg: x. From version 0.12, the only valid positional argument will be `data`, and passing other arguments without an explicit keyword will result in an error or misinterpretation.\n",
      "  warnings.warn(\n"
     ]
    },
    {
     "data": {
      "image/png": "[encoded data removed]",
      "text/plain": [
       "<Figure size 640x480 with 1 Axes>"
      ]
     },
     "metadata": {},
     "output_type": "display_data"
    }
   ],
   "source": [
    "#Checking for outliers in AMT_GOODS_PRICE as it is a continuous variable\n",
    "sns.boxplot(df_application['AMT_GOODS_PRICE'])\n",
    "plt.show()"
   ]
  },
  {
   "cell_type": "code",
   "execution_count": 131,
   "id": "9d685982",
   "metadata": {},
   "outputs": [
    {
     "ename": "IndentationError",
     "evalue": "unexpected indent (1856761252.py, line 2)",
     "output_type": "error",
     "traceback": [
      "\u001b[1;36m  Input \u001b[1;32mIn [131]\u001b[1;36m\u001b[0m\n\u001b[1;33m    df_application[\"AMT_GOODS_PRICE\"] = df_application.AMT_GOODS_PRICE.fillna(df_application['AMT_GOODS_PRICE'] == df_application['AMT_CREDIT'])\u001b[0m\n\u001b[1;37m    ^\u001b[0m\n\u001b[1;31mIndentationError\u001b[0m\u001b[1;31m:\u001b[0m unexpected indent\n"
     ]
    }
   ],
   "source": [
    "#Imputing null values with AMT_CREDIT based on the assumption that the amount of loan taken is equal to the amount of goods purchase\n",
    "    df_application[\"AMT_GOODS_PRICE\"] = df_application.AMT_GOODS_PRICE.fillna(df_application['AMT_GOODS_PRICE'] == df_application['AMT_CREDIT'])"
   ]
  },
  {
   "cell_type": "code",
   "execution_count": null,
   "id": "c938979b",
   "metadata": {},
   "outputs": [],
   "source": [
    "#Calculating the null value count\n",
    "df_application['NAME_TYPE_SUITE'].isna().sum()\n"
   ]
  },
  {
   "cell_type": "code",
   "execution_count": null,
   "id": "e86eea52",
   "metadata": {},
   "outputs": [],
   "source": [
    "#Replacing the null values by mode for this categorical variable\n",
    "df_application[\"NAME_TYPE_SUITE\"] = df_application.NAME_TYPE_SUITE.fillna(\"Unaccompanied\")"
   ]
  },
  {
   "cell_type": "code",
   "execution_count": null,
   "id": "b58266db",
   "metadata": {},
   "outputs": [],
   "source": [
    "#Checking null value counts for the variable\n",
    "df_application.CNT_FAM_MEMBERS.isna().sum()"
   ]
  },
  {
   "cell_type": "code",
   "execution_count": null,
   "id": "ef52435b",
   "metadata": {},
   "outputs": [],
   "source": [
    "#Plotting boxplot for variable\n",
    "sns.boxplot(df_application['CNT_FAM_MEMBERS'])\n",
    "plt.show()"
   ]
  },
  {
   "cell_type": "code",
   "execution_count": null,
   "id": "dd37d39b",
   "metadata": {},
   "outputs": [],
   "source": [
    "# impute the mean/median inputting null values with Median due to the presence of outlier values\n",
    "df_application[\"CNT_FAM_MEMBERS\"] = df_application.CNT_FAM_MEMBERS.fillna(df_application.CNT_FAM_MEMBERS.median())"
   ]
  },
  {
   "cell_type": "code",
   "execution_count": null,
   "id": "21103a7f",
   "metadata": {},
   "outputs": [],
   "source": [
    "#Percentage of each category present in \"OCCUPATION_TYPE\"\n",
    "df_application[\"OCCUPATION_TYPE\"].value_counts(normalize=True)*100"
   ]
  },
  {
   "cell_type": "code",
   "execution_count": null,
   "id": "f92d8e17",
   "metadata": {},
   "outputs": [],
   "source": [
    "#Finding the null value count\n",
    "df_application.OCCUPATION_TYPE.isnull().sum()"
   ]
  },
  {
   "cell_type": "code",
   "execution_count": null,
   "id": "686813a7",
   "metadata": {},
   "outputs": [],
   "source": [
    "#Imputing null values with \"Unknown\" as using mode may distort the picture because of presence of large number of null values\n",
    "df_application[\"OCCUPATION_TYPE\"] = df_application.OCCUPATION_TYPE.fillna(\"Unknown\")"
   ]
  },
  {
   "cell_type": "code",
   "execution_count": null,
   "id": "c6ed5028",
   "metadata": {},
   "outputs": [],
   "source": [
    "#Plotting a bar graph for the variable Occupation Type to understand the distribution by various occupations\n",
    "plt.figure(figsize = [15,6])\n",
    "df_application.OCCUPATION_TYPE.value_counts().plot.barh(width =.8)\n",
    "plt.title(\"Type of Occupations\", fontdict={\"fontsize\":15}, pad =20)\n",
    "plt.show()"
   ]
  },
  {
   "cell_type": "code",
   "execution_count": null,
   "id": "7758cad8",
   "metadata": {},
   "outputs": [],
   "source": [
    "#Computing statistics for various numerical variables of number of queries to Credit Bureau about the client to understand their distribution\n",
    "df_application[[\"AMT_REQ_CREDIT_BUREAU_YEAR\",\"AMT_REQ_CREDIT_BUREAU_QRT\",\"AMT_REQ_CREDIT_BUREAU_MON\",\"AMT_REQ_CREDIT_BUREAU_WEEK\",\"AMT_REQ_CREDIT_BUREAU_DAY\",\"AMT_REQ_CREDIT_BUREAU_HOUR\"]].describe()"
   ]
  },
  {
   "cell_type": "code",
   "execution_count": null,
   "id": "fc9b984c",
   "metadata": {},
   "outputs": [],
   "source": [
    "#Making a list of all variables pertaining to number of queries to Credit Bureau about the client\n",
    "AMT_REQ_CREDIT = [\"AMT_REQ_CREDIT_BUREAU_YEAR\",\"AMT_REQ_CREDIT_BUREAU_QRT\",\"AMT_REQ_CREDIT_BUREAU_MON\",\"AMT_REQ_CREDIT_BUREAU_WEEK\",\"AMT_REQ_CREDIT_BUREAU_DAY\",\"AMT_REQ_CREDIT_BUREAU_HOUR\"]"
   ]
  },
  {
   "cell_type": "code",
   "execution_count": null,
   "id": "98314a48",
   "metadata": {},
   "outputs": [],
   "source": [
    "#Replacing the missing values with median values for the Credit Bureau list above\n",
    "df_application.fillna(df_application[AMT_REQ_CREDIT].median(),inplace = True)"
   ]
  },
  {
   "cell_type": "code",
   "execution_count": null,
   "id": "e81b3e35",
   "metadata": {},
   "outputs": [],
   "source": [
    "#Computing statistics for various numerical variables pertaining to client’s social surroundings\n",
    "df_application[['OBS_30_CNT_SOCIAL_CIRCLE','DEF_30_CNT_SOCIAL_CIRCLE','OBS_60_CNT_SOCIAL_CIRCLE','DEF_60_CNT_SOCIAL_CIRCLE']].describe()"
   ]
  },
  {
   "cell_type": "code",
   "execution_count": null,
   "id": "d28a43ab",
   "metadata": {},
   "outputs": [],
   "source": [
    "#Making a list of all variables pertaining to client's social surroundings\n",
    "SOCIAL_CIRCLE = ['OBS_30_CNT_SOCIAL_CIRCLE','DEF_30_CNT_SOCIAL_CIRCLE','OBS_60_CNT_SOCIAL_CIRCLE','DEF_60_CNT_SOCIAL_CIRCLE']"
   ]
  },
  {
   "cell_type": "code",
   "execution_count": null,
   "id": "83fd0b6b",
   "metadata": {},
   "outputs": [],
   "source": [
    "#Replacing the missing values with median values for the social surroundings list as above\n",
    "df_application.fillna(df_application[SOCIAL_CIRCLE].median(),inplace = True)"
   ]
  },
  {
   "cell_type": "code",
   "execution_count": null,
   "id": "0bb32781",
   "metadata": {},
   "outputs": [],
   "source": [
    "#Finding the values for two variables of external sources\n",
    "df_application[['EXT_SOURCE_2','EXT_SOURCE_3']]"
   ]
  },
  {
   "cell_type": "code",
   "execution_count": null,
   "id": "4d093fbf",
   "metadata": {},
   "outputs": [],
   "source": [
    "Computing statistics for the columns pertaining to external sources\n",
    "df_application[['EXT_SOURCE_2','EXT_SOURCE_3']].describe()"
   ]
  },
  {
   "cell_type": "code",
   "execution_count": null,
   "id": "d2158caf",
   "metadata": {},
   "outputs": [],
   "source": [
    "#Replacing the missing values with median values for external source variable\n",
    "df_application['EXT_SOURCE_2'] = df_application.EXT_SOURCE_2.fillna(df_application['EXT_SOURCE_2'].median())"
   ]
  },
  {
   "cell_type": "code",
   "execution_count": null,
   "id": "c470babd",
   "metadata": {},
   "outputs": [],
   "source": [
    "#Replacing the missing values with median values for external source variable\n",
    "df_application['EXT_SOURCE_3'] = df_application.EXT_SOURCE_3.fillna(df_application['EXT_SOURCE_3'].median())"
   ]
  },
  {
   "cell_type": "code",
   "execution_count": null,
   "id": "ac785a4b",
   "metadata": {},
   "outputs": [],
   "source": [
    "#Computing various statistics for the variable to understand about the values\n",
    "df_application.DAYS_LAST_PHONE_CHANGE.describe()"
   ]
  },
  {
   "cell_type": "code",
   "execution_count": null,
   "id": "a02eb252",
   "metadata": {},
   "outputs": [],
   "source": [
    "#Finding the counts for various values of the variable\n",
    "df_application.DAYS_LAST_PHONE_CHANGE.value_counts(normalize=True)"
   ]
  },
  {
   "cell_type": "code",
   "execution_count": null,
   "id": "e087f3c3",
   "metadata": {},
   "outputs": [],
   "source": [
    "#Imputing missing values with 0 which is the most occuring value\n",
    "df_application['DAYS_LAST_PHONE_CHANGE'] = df_application.DAYS_LAST_PHONE_CHANGE.fillna(0)"
   ]
  },
  {
   "cell_type": "code",
   "execution_count": null,
   "id": "ee4e5177",
   "metadata": {},
   "outputs": [],
   "source": [
    "#find out the null values in dataframe\n",
    "df_previous_application.isnull().sum()"
   ]
  },
  {
   "cell_type": "code",
   "execution_count": null,
   "id": "9a88429d",
   "metadata": {},
   "outputs": [],
   "source": [
    "#Finding the percentage of null values for all variables\n",
    "Missing_Values(df_previous_application)"
   ]
  },
  {
   "cell_type": "code",
   "execution_count": null,
   "id": "bd06f4a0",
   "metadata": {},
   "outputs": [],
   "source": [
    "#Finding all the variables with null value % >50%\n",
    "Null_2 = Missing_Values(df_previous_application)[Missing_Values(df_previous_application) > 50]\n",
    "Null_2"
   ]
  },
  {
   "cell_type": "code",
   "execution_count": null,
   "id": "182a7d2d",
   "metadata": {},
   "outputs": [],
   "source": [
    "#Retrieving Variable names with null values >50%\n",
    "Null_2.index"
   ]
  },
  {
   "cell_type": "code",
   "execution_count": null,
   "id": "902beea3",
   "metadata": {},
   "outputs": [],
   "source": [
    "#Dropping the unnecessary columns from the data fame as they are not important\n",
    "df_previous_application.drop(columns=Null_2.index ,inplace=True)\n",
    "print('Null_2 dropped from the df_previous_application')"
   ]
  },
  {
   "cell_type": "code",
   "execution_count": null,
   "id": "695d9b10",
   "metadata": {},
   "outputs": [],
   "source": [
    "#Finding the percentage of null values for other variables\n",
    "Missing_Values(df_previous_application)"
   ]
  },
  {
   "cell_type": "code",
   "execution_count": null,
   "id": "a26ee050",
   "metadata": {},
   "outputs": [],
   "source": [
    "#Finding the count of various values for the variable\n",
    "df_previous_application.NAME_TYPE_SUITE.value_counts()"
   ]
  },
  {
   "cell_type": "code",
   "execution_count": null,
   "id": "db979c13",
   "metadata": {},
   "outputs": [],
   "source": [
    "#Imputing null values with mode\n",
    "df_previous_application['NAME_TYPE_SUITE'] = df_previous_application.NAME_TYPE_SUITE.fillna('Unaccompanied')"
   ]
  },
  {
   "cell_type": "code",
   "execution_count": null,
   "id": "409d7dbb",
   "metadata": {},
   "outputs": [],
   "source": [
    "#Imputing null values with AMT_CREDIT based on the assumption that the amount of good purchased is equal to the loan amount\n",
    "df_previous_application[\"AMT_GOODS_PRICE\"] = df_previous_application.AMT_GOODS_PRICE.fillna(df_previous_application['AMT_GOODS_PRICE'] ==df_previous_application['AMT_CREDIT'])"
   ]
  },
  {
   "cell_type": "code",
   "execution_count": null,
   "id": "131636ff",
   "metadata": {},
   "outputs": [],
   "source": [
    "#Imputing null values with median\n",
    "df_previous_application['AMT_ANNUITY'] = df_previous_application.AMT_ANNUITY.fillna(df_previous_application.AMT_ANNUITY.median())"
   ]
  },
  {
   "cell_type": "code",
   "execution_count": null,
   "id": "3c1f5553",
   "metadata": {},
   "outputs": [],
   "source": [
    "#Finding value counts for various product combinations\n",
    "df_previous_application.PRODUCT_COMBINATION.value_counts()"
   ]
  },
  {
   "cell_type": "code",
   "execution_count": null,
   "id": "9de0ef25",
   "metadata": {},
   "outputs": [],
   "source": [
    "#Imputing NA values with mode\n",
    "df_previous_application['PRODUCT_COMBINATION'] = df_previous_application.PRODUCT_COMBINATION.fillna(df_previous_application.PRODUCT_COMBINATION.mode()[0])"
   ]
  },
  {
   "cell_type": "code",
   "execution_count": null,
   "id": "27e03184",
   "metadata": {},
   "outputs": [],
   "source": [
    "#Imputing null values with median\n",
    "df_previous_application['CNT_PAYMENT'] = df_previous_application.CNT_PAYMENT.fillna(df_previous_application.CNT_PAYMENT.median())"
   ]
  },
  {
   "cell_type": "code",
   "execution_count": null,
   "id": "16482c87",
   "metadata": {},
   "outputs": [],
   "source": [
    "#Finding values greater than 40% of null values\n",
    "Missing_Values(df_previous_application)"
   ]
  },
  {
   "cell_type": "markdown",
   "id": "36d83477",
   "metadata": {},
   "source": [
    "## Standardizing Numerical values,changing data types and Creating buckets"
   ]
  },
  {
   "cell_type": "code",
   "execution_count": null,
   "id": "127b53e3",
   "metadata": {},
   "outputs": [],
   "source": [
    "#Converting Days to Years to improve Readability\n",
    "df_application[[\"DAYS_BIRTH\", \"DAYS_EMPLOYED\",\"DAYS_REGISTRATION\", \"DAYS_ID_PUBLISH\",\"DAYS_LAST_PHONE_CHANGE\"]] =abs(df_application[[\"DAYS_BIRTH\", \"DAYS_EMPLOYED\",\"DAYS_REGISTRATION\", \"DAYS_ID_PUBLISH\",\"DAYS_LAST_PHONE_CHANGE\"]])"
   ]
  },
  {
   "cell_type": "code",
   "execution_count": null,
   "id": "a63b704c",
   "metadata": {},
   "outputs": [],
   "source": [
    "#Converting days to years up to 2 decimal places\n",
    "df_application['AGE_IN_YEARS'] =round(df_application['DAYS_BIRTH']/365,2)\n",
    "\n",
    "df_application['EMPLOYMENT_YEARS'] =round(df_application['DAYS_EMPLOYED']/365,2)"
   ]
  },
  {
   "cell_type": "code",
   "execution_count": null,
   "id": "6f6a619a",
   "metadata": {},
   "outputs": [],
   "source": [
    "#Creating a Bucket for age\n",
    "df_application['AGE_IN_YEARS_RANGE'] = pd.cut(df_application['AGE_IN_YEARS'],bins=[0,20,25,30,35,40,45,50,55,60,65,70],labels=[\"0-20\",'20-25','25-30','30-35','35-40','40-45','45-50','50-55','55-60','60-65','above 65'])\n",
    "\n",
    "df_application[['AGE_IN_YEARS_RANGE','AGE_IN_YEARS']]"
   ]
  },
  {
   "cell_type": "code",
   "execution_count": null,
   "id": "72f86deb",
   "metadata": {},
   "outputs": [],
   "source": [
    "#Creating a Bucket for Employment years\n",
    "df_application['EMPLOYMENT_YEARS_RANGE'] = pd.cut(df_application['EMPLOYMENT_YEARS'],bins=[0,5,10,15,20,25,30,35,40,45,50,55],labels=[\"0-5\",'5-10','10-15','15-20','20-25','25-30','30-35','35-40','40-45','45-50','above 50'])"
   ]
  },
  {
   "cell_type": "code",
   "execution_count": null,
   "id": "86c8c0e3",
   "metadata": {},
   "outputs": [],
   "source": [
    "df_application[['EMPLOYMENT_YEARS_RANGE','EMPLOYMENT_YEARS']]"
   ]
  },
  {
   "cell_type": "code",
   "execution_count": null,
   "id": "3e66f55a",
   "metadata": {},
   "outputs": [],
   "source": [
    "#Converting to lakhs up to 2 decimal places\n",
    "df_application['AMT_INCOME_TOTAL_in_lakhs'] = round(df_application['AMT_INCOME_TOTAL']/100000,2)\n",
    "df_application['AMT_CREDIT_in_lakhs'] = round(df_application['AMT_CREDIT']/100000,2)"
   ]
  },
  {
   "cell_type": "code",
   "execution_count": null,
   "id": "34747ab7",
   "metadata": {},
   "outputs": [],
   "source": [
    "#Creating buckets\n",
    "df_application['AMT_CREDIT_in_lakhs_Range'] = pd.cut(df_application['AMT_CREDIT_in_lakhs'],bins =[0,5,10,15,20,25,30,35,40,45], labels = ['0-5L','5-10L','10-15L','15-20L','20-25L','25-30L','30-35L','35-40L','Above 40L'])\n",
    " df_application[['AMT_CREDIT_in_lakhs','AMT_INCOME_TOTAL_in_lakhs','AMT_CREDIT_in_lakhs_Range','AMT_CREDIT_in_lakhs']]"
   ]
  },
  {
   "cell_type": "code",
   "execution_count": null,
   "id": "daf82833",
   "metadata": {},
   "outputs": [],
   "source": [
    "#Creating a Bucket for AMT_INCOME_TOTAL\n",
    "df_application['AMT_INCOME_TOTAL_RANGE'] = pd.cut(df_application['AMT_INCOME_TOTAL_in_lakhs'],bins = [0,1,2,3,4,5,6,7,8,9,10,100], labels = ['0-1L','1-2L','2-3L','3-4L','4-5L','5-6L','6-7L','7-8L','8-9L','9-10L','Above 10L'])\n",
    "\n",
    "df_application[['AMT_INCOME_TOTAL_RANGE','AMT_INCOME_TOTAL']]"
   ]
  },
  {
   "cell_type": "code",
   "execution_count": null,
   "id": "baca081a",
   "metadata": {},
   "outputs": [],
   "source": [
    "#Finding the count of various values\n",
    "df_application[['AMT_INCOME_TOTAL_RANGE','AMT_INCOME_TOTAL_in_lakhs']].value_counts()"
   ]
  },
  {
   "cell_type": "code",
   "execution_count": null,
   "id": "dd981322",
   "metadata": {},
   "outputs": [],
   "source": [
    "#Removing rogue outlier values to prevent distortions in analysis\n",
    "df_application['EMPLOYMENT_YEARS'] = df_application.EMPLOYMENT_YEARS.replace(df_application.EMPLOYMENT_YEARS.max(),np.NaN)"
   ]
  },
  {
   "cell_type": "code",
   "execution_count": null,
   "id": "3a760a40",
   "metadata": {},
   "outputs": [],
   "source": [
    "#Adding a column to understand the ratio\n",
    "df_application['Credit_Ratio'] = round(df_application.AMT_CREDIT/df_application.AMT_INCOME_TOTAL,2)\n",
    "df_application['Credit_Ratio'].head()"
   ]
  },
  {
   "cell_type": "code",
   "execution_count": null,
   "id": "ceb93006",
   "metadata": {},
   "outputs": [],
   "source": [
    "#Converting to lakhs\n",
    "df_previous_application['AMT_ANNUITY_LAKHS'] = df_previous_application['AMT_ANNUITY']/100000\n",
    "\n",
    "df_previous_application['AMT_APPLICATION_LAKHS'] =df_previous_application['AMT_APPLICATION']/100000\n",
    "\n",
    "df_previous_application['AMT_CREDIT_LAKHS'] = df_previous_application['AMT_CREDIT']/100000"
   ]
  },
  {
   "cell_type": "code",
   "execution_count": null,
   "id": "20ed4896",
   "metadata": {},
   "outputs": [],
   "source": [
    "#Converting days to absolute number\n",
    "df_previous_application[['DAYS_DECISION','DAYS_FIRST_DRAWING','DAYS_FIRST_DUE','DAYS_LAST_DUE_1ST_VERSION','DAYS_LAST_DUE','DAYS_TERMINATION']] =abs(df_previous_application[['DAYS_DECISION','DAYS_FIRST_DRAWING', 'DAYS_FIRST_DUE','DAYS_LAST_DUE_1ST_VERSION','DAYS_LAST_DUE','DAYS_TERMINATION']])"
   ]
  },
  {
   "cell_type": "code",
   "execution_count": null,
   "id": "ca61c66e",
   "metadata": {},
   "outputs": [],
   "source": [
    "#Converting days to years up to 2 decimal places\n",
    "df_previous_application[['DAYS_DECISION_YEARS','DAYS_FIRST_DRAWING_YEARS','DAYS_FIRST_DUE_YEARS','DAYS_LAST_DUE_1ST_VERSION_YEARS','DAYS_LAST_DUE_YEARS','DAYS_TERMINATION_YEARS']] =round(df_previous_application[['DAYS_DECISION','DAYS_FIRST_DRAWING', 'DAYS_FIRST_DUE','DAYS_LAST_DUE_1ST_VERSION','DAYS_LAST_DUE','DAYS_TERMINATION']]/365,2)"
   ]
  },
  {
   "cell_type": "code",
   "execution_count": null,
   "id": "f1f45909",
   "metadata": {},
   "outputs": [],
   "source": [
    "#Creating various buckets\n",
    "df_previous_application['AMT_CREDIT_LAKHS_Range']=pd.cut(df_application['AMT_INCOME_TOTAL_in_lakhs'], bins =[0,1,2,3,4,5,6,7,8,9,10,100], labels = ['0-1L','1-2L','2-3L','3-4L','4-5L','5-6L','6-7L','7-8L','8-9L','9-10L','Above 10L'])\n",
    " \n",
    "df_previous_application['AMT_APPLICATION_LAKHS_Range'] =pd.cut(df_application['AMT_INCOME_TOTAL_in_lakhs'], bins =[0,1,2,3,4,5,6,7,8,9,10,100], labels = ['0-1L','1-2L','2-3L','3-4L','4-5L','5-6L','6-7L','7-8L','8-9L','9-10L','Above 10L'])"
   ]
  },
  {
   "cell_type": "code",
   "execution_count": null,
   "id": "d6c1cf95",
   "metadata": {},
   "outputs": [],
   "source": [
    "#Making a list of all the flag variables\n",
    "list_Flag =['FLAG_MOBIL','FLAG_EMP_PHONE','FLAG_WORK_PHONE','FLAG_CONT_MOBILE','FLAG_PHONE','FLAG_EMAIL']"
   ]
  },
  {
   "cell_type": "code",
   "execution_count": null,
   "id": "8189491f",
   "metadata": {},
   "outputs": [],
   "source": [
    "list_Flag\n"
   ]
  },
  {
   "cell_type": "code",
   "execution_count": null,
   "id": "176b5af6",
   "metadata": {},
   "outputs": [],
   "source": [
    "#Conversion of 0 to No and 1 to Yes for Flag variables for better understanding of the variables\n",
    "df_application['FLAG_MOBIL'] =df_application['FLAG_MOBIL'].apply(lambda x : 'YES' if x == 1 else 'NO')\n",
    "\n",
    "df_application['FLAG_EMP_PHONE'] = df_application['FLAG_EMP_PHONE'].apply(lambda x : 'YES' if x == 1 else 'NO')\n",
    " \n",
    "df_application['FLAG_WORK_PHONE'] =df_application['FLAG_WORK_PHONE'].apply(lambda x : 'YES' if x == 1 else 'NO')\n",
    "\n",
    "df_application['FLAG_CONT_MOBILE'] =df_application['FLAG_CONT_MOBILE'].apply(lambda x : 'YES' if x == 1 else 'NO')\n",
    "\n",
    "df_application['FLAG_PHONE'] =df_application['FLAG_PHONE'].apply(lambda x : 'YES' if x == 1 else'NO')\n",
    "\n",
    "df_application['FLAG_EMAIL'] =df_application['FLAG_EMAIL'].apply(lambda x : 'YES' if x == 1 else 'NO')"
   ]
  },
  {
   "cell_type": "markdown",
   "id": "fbb6ad06",
   "metadata": {},
   "source": [
    "## Univariate Analysis"
   ]
  },
  {
   "cell_type": "code",
   "execution_count": null,
   "id": "17df6e9d",
   "metadata": {},
   "outputs": [],
   "source": [
    " #Univariate Analysis for  Dataset \"application_data.csv\"\n",
    "\n",
    "Numarical_Data = ['AMT_ANNUITY', 'AMT_GOODS_PRICE', 'AGE_IN_YEARS', 'EMPLOYMENT_YEARS', 'AMT_INCOME_TOTAL_in_lakhs',\n",
    "                  'AMT_CREDIT_in_lakhs', 'CNT_FAM_MEMBERS', 'Credit_Ratio']\n",
    "\n",
    "Categorical_Data = ['FLAG_OWN_CAR', 'FLAG_OWN_REALTY', 'NAME_TYPE_SUITE', 'NAME_INCOME_TYPE', 'NAME_EDUCATION_TYPE',\n",
    "                    'NAME_FAMILY_STATUS', 'NAME_HOUSING_TYPE', 'OCCUPATION_TYPE', 'AGE_IN_YEARS_RANGE',\n",
    "                    'EMPLOYMENT_YEARS_RANGE', 'AMT_CREDIT_in_lakhs_Range', 'AMT_INCOME_TOTAL_RANGE']\n",
    "\n",
    "def Uni_Analysis_Numarical(dataframe, column):\n",
    "    sns.set(style='darkgrid')\n",
    "    plt.figure(figsize=(25, 5))\n",
    "\n",
    "    plt.subplot(1, 3, 1)\n",
    "    sns.boxplot(data=dataframe, x=column, orient='v').set(title='Box Plot')\n",
    "    plt.subplot(1, 3, 2)\n",
    "    sns.distplot(dataframe[column].dropna()).set(title='Distplot')\n",
    "\n",
    "    plt.show()\n",
    "\n",
    "def Uni_Analysis_Categorical(dataframe, column):\n",
    "    sns.set(style='darkgrid')\n",
    "    plt.figure(figsize=[12, 5])\n",
    "    dataframe[column].value_counts().plot.barh(width=0.8)\n",
    "    plt.title(column)\n",
    "\n",
    "    plt.show()\n",
    "\n",
    "# Loop through numerical columns\n",
    "for i in Numarical_Data:\n",
    "    Uni_Analysis_Numarical(df_application, i)\n",
    "\n"
   ]
  },
  {
   "cell_type": "code",
   "execution_count": null,
   "id": "537e6e9a",
   "metadata": {},
   "outputs": [],
   "source": [
    "\n",
    "# Loop through categorical columns\n",
    "for i in Categorical_Data:\n",
    "    Uni_Analysis_Categorical(df_application, i)"
   ]
  },
  {
   "cell_type": "code",
   "execution_count": null,
   "id": "2a312e82",
   "metadata": {},
   "outputs": [],
   "source": [
    "sns.set(style='darkgrid')\n",
    "plt.figure(figsize = [15,12])\n",
    "\n",
    "df_application['ORGANIZATION_TYPE'].value_counts().plot.barh(width = 1)\n",
    "plt.title('ORGANIZATION_TYPE')\n",
    "\n",
    "plt.show()"
   ]
  },
  {
   "cell_type": "code",
   "execution_count": null,
   "id": "5acd0642",
   "metadata": {},
   "outputs": [],
   "source": [
    "#Univariate Analysis for Dataset  \"previous_application.csv\"\n",
    "Categorical_Data_for_prev =['NAME_CONTRACT_TYPE','NAME_CONTRACT_STATUS','NAME_PAYMENT_TYPE','NAME_TYPE_SUITE','NAME_CLIENT_TYPE','AMT_CREDIT_LAKHS_Range','AMT_APPLICATION_LAKHS_Range',]\n",
    " \n",
    "for i in Categorical_Data_for_prev:\n",
    " Uni_Analysis_Categorical(df_previous_application,i)"
   ]
  },
  {
   "cell_type": "markdown",
   "id": "0f9bf64a",
   "metadata": {},
   "source": [
    "## TARGET Analysis"
   ]
  },
  {
   "cell_type": "code",
   "execution_count": null,
   "id": "89238d95",
   "metadata": {},
   "outputs": [],
   "source": [
    "#Univariate Analysis of TARGET\n",
    "Categorical_Data_1 =['NAME_CONTRACT_TYPE','FLAG_OWN_CAR','FLAG_OWN_REALTY','NAME_TYPE_SUITE','NAME_INCOME_TYPE','NAME_EDUCATION_TYPE','NAME_FAMILY_STATUS','NAME_HOUSING_TYPE','OCCUPATION_TYPE','AGE_IN_YEARS_RANGE','EMPLOYMENT_YEARS_RANGE','AMT_CREDIT_in_lakhs_Range','AMT_INCOME_TOTAL_RANGE']\n",
    "\n",
    "Numarical_Data_1 =['AMT_ANNUITY','AMT_GOODS_PRICE','CNT_FAM_MEMBERS','CNT_CHILDREN','Credit_Ratio']\n",
    "\n",
    "Tagget_Variable_Payment_Difficulty = df_application[df_application.TARGET == 1]\n",
    "\n",
    "Tagget_Variable_All_Other = df_application[df_application.TARGET ==0]\n",
    "\n",
    "Tagget_Variable_All_Other.CODE_GENDER.value_counts()"
   ]
  },
  {
   "cell_type": "code",
   "execution_count": null,
   "id": "6fd070bf",
   "metadata": {},
   "outputs": [],
   "source": [
    " #Function to plot for categorical variables\n",
    "\n",
    "def Tagget_categorical_Uni(variable):\n",
    "    plt.style.use('classic')\n",
    "    sns.set(style='whitegrid')  # Set the seaborn style to 'whitegrid' for better visualization\n",
    "    \n",
    "    fig, (ax1, ax2) = plt.subplots(1, 2, figsize=(25, 8))  # Create a figure with two subplots\n",
    "    \n",
    "    # Plot the first subplot (ax1)\n",
    "    sns.countplot(x=variable, data=Tagget_Variable_Payment_Difficulty,\n",
    "                  linewidth=1, ax=ax1, edgecolor=sns.color_palette(\"dark\", 3), hue=variable)\n",
    "    ax1.set_ylabel('Total Counts')\n",
    "    ax1.set_title(f'Distribution of {variable} Tagget Payment_Difficulty', fontsize=18)\n",
    "    ax1.set_xticklabels(ax1.get_xticklabels(), rotation=40, ha=\"right\")  # Rotate x-axis labels for better readability\n",
    "\n",
    "    # Annotate the bars in the first subplot with the percentage of total counts\n",
    "    for p in ax1.patches:\n",
    "        ax1.annotate('{:.1f}%'.format((p.get_height() / len(Tagget_Variable_Payment_Difficulty)) * 100),\n",
    "                     (p.get_x() + 0.4, p.get_height() + 100), ha='center')\n",
    "\n",
    "    # Plot the second subplot (ax2)\n",
    "    sns.countplot(x=variable, data=Tagget_Variable_All_Other, ax=ax2,\n",
    "                  linewidth=1, edgecolor=sns.color_palette(\"dark\", 3), hue=variable)\n",
    "    ax2.set_ylabel('Total Counts')\n",
    "    ax2.set_title(f'Distribution of {variable} Tagget All_Other', fontsize=18)\n",
    "    ax2.set_xticklabels(ax2.get_xticklabels(), rotation=40, ha=\"right\")\n",
    "\n",
    "    # Annotate the bars in the second subplot with the percentage of total counts\n",
    "    for p in ax2.patches:\n",
    "        ax2.annotate('{:.1f}%'.format((p.get_height() / len(Tagget_Variable_All_Other)) * 100),\n",
    "                     (p.get_x() + 0.4, p.get_height() + 100), ha='center')\n",
    "\n",
    "    plt.show()  # Display the figure with both subplots\n",
    "\n",
    "# Example of how to use the function:\n",
    "Tagget_categorical_Uni('CODE_GENDER')\n"
   ]
  },
  {
   "cell_type": "code",
   "execution_count": null,
   "id": "a5945005",
   "metadata": {},
   "outputs": [],
   "source": [
    "for i in Categorical_Data_1:\n",
    "    Tagget_categorical_Uni(i)"
   ]
  },
  {
   "cell_type": "code",
   "execution_count": null,
   "id": "95d212e5",
   "metadata": {},
   "outputs": [],
   "source": [
    "#Function to plot for numerical variables\n",
    "def Tagget_Numarical_Uni(variable):\n",
    "    sns.set(style='darkgrid')  # Set the seaborn style to 'darkgrid'\n",
    "    plt.figure(figsize=(15, 5))  # Create a figure with a specified size\n",
    "\n",
    "    # Create the first subplot (left)\n",
    "    plt.subplot(1, 2, 1)\n",
    "    sns.distplot(Tagget_Variable_Payment_Difficulty[variable].dropna())  # Plot the distribution of the variable\n",
    "    plt.title(f'Distribution of {variable} Payment_Difficulty', fontsize=15)  # Set the title\n",
    "    plt.xlabel(variable)  # Set the x-axis label\n",
    "\n",
    "    # Create the second subplot (right)\n",
    "    plt.subplot(1, 2, 2)\n",
    "    sns.distplot(Tagget_Variable_All_Other[variable].dropna())  # Plot the distribution of the variable\n",
    "    plt.title(f'Distribution of {variable} All Other', fontsize=15)  # Set the title\n",
    "    plt.xlabel(variable)  # Set the x-axis label\n",
    "\n",
    "    plt.show()  # Display the figure with both subplots\n",
    "\n",
    "# Example of how to use the function:\n",
    "Tagget_Numarical_Uni('Credit_Ratio')\n"
   ]
  },
  {
   "cell_type": "code",
   "execution_count": null,
   "id": "cf31e53c",
   "metadata": {},
   "outputs": [],
   "source": [
    "Tagget_Numarical_Uni('DAYS_EMPLOYED')"
   ]
  },
  {
   "cell_type": "code",
   "execution_count": null,
   "id": "f368e2db",
   "metadata": {},
   "outputs": [],
   "source": [
    "Tagget_categorical_Uni('CNT_FAM_MEMBERS')\n"
   ]
  },
  {
   "cell_type": "code",
   "execution_count": null,
   "id": "80177096",
   "metadata": {},
   "outputs": [],
   "source": [
    "plt.figure(figsize=(15,5))\n",
    "plt.subplot(1, 2, 1)\n",
    "Tagget_Variable_Payment_Difficulty['CNT_FAM_MEMBERS'].plot.hist(bins=range(15))\n",
    "\n",
    "plt.title('Distribution of CNT_FAM_MEMBERS for Non-Defaulters',fontsize=15)\n",
    "\n",
    "plt.xlabel('CNT_FAM_MEMBERS')\n",
    "plt.subplot(1, 2, 2)\n",
    "Tagget_Variable_All_Other['CNT_FAM_MEMBERS'].plot.hist(bins=range(15))\n",
    "plt.title(f'Distribution of CNT_FAM_MEMBERS for Defaulters',fontsize=15)\n",
    "plt.xlabel('CNT_FAM_MEMBERS')\n",
    "plt.show()"
   ]
  },
  {
   "cell_type": "markdown",
   "id": "a9e71a8c",
   "metadata": {},
   "source": [
    "## Bivariate Analysis of TARGET"
   ]
  },
  {
   "cell_type": "code",
   "execution_count": null,
   "id": "35e03a1d",
   "metadata": {},
   "outputs": [],
   "source": [
    "sns.scatterplot(x=Tagget_Variable_Payment_Difficulty.AMT_ANNUITY,\n",
    "y = Tagget_Variable_Payment_Difficulty.AMT_GOODS_PRICE,\n",
    "data=Tagget_Variable_Payment_Difficulty,hue = 'TARGET')"
   ]
  },
  {
   "cell_type": "code",
   "execution_count": null,
   "id": "9e40db7b",
   "metadata": {},
   "outputs": [],
   "source": [
    "def Tagget_Numarical_Bi(variable_1, variable_2):\n",
    "    plt.style.use('ggplot')\n",
    "    sns.despine\n",
    "    fig,(ax1,ax2) = plt.subplots(1,2,figsize=(20,6))\n",
    "    sns.scatterplot(x=variable_1,y=variable_2,data=Tagget_Variable_Payment_Difficulty,ax=ax1)\n",
    "    ax1.set_xlabel(variable_1)\n",
    "    ax1.set_ylabel(variable_2)\n",
    "    ax1.set_title(f'{variable_1} vs {variable_2} Tagget_Payment_Difficulty',fontsize=15)\n",
    "    sns.scatterplot(x=variable_1,y=variable_2,data=Tagget_Variable_All_Other,ax=ax2)\n",
    "    ax2.set_xlabel(variable_1)\n",
    "    ax2.set_ylabel(variable_2)\n",
    "    ax2.set_title(f'{variable_1} vs {variable_2} Tagget_All_Other',fontsize=15)\n",
    "    plt.show()\n",
    "Tagget_Numarical_Bi('AGE_IN_YEARS','AMT_INCOME_TOTAL_in_lakhs')"
   ]
  },
  {
   "cell_type": "code",
   "execution_count": null,
   "id": "217c0066",
   "metadata": {},
   "outputs": [],
   "source": [
    "sns.scatterplot(x=Tagget_Variable_Payment_Difficulty.AMT_ANNUITY,y = Tagget_Variable_Payment_Difficulty.AMT_GOODS_PRICE,data=Tagget_Variable_Payment_Difficulty,hue = 'TARGET')"
   ]
  },
  {
   "cell_type": "code",
   "execution_count": null,
   "id": "8368c602",
   "metadata": {},
   "outputs": [],
   "source": [
    "plt.figure(figsize = [10,6])\n",
    "sns.set(style='darkgrid')\n",
    "sns.barplot(x = df_application.CODE_GENDER,y = df_application.AGE_IN_YEARS)\n",
    "plt.show()"
   ]
  },
  {
   "cell_type": "code",
   "execution_count": null,
   "id": "278c1c3f",
   "metadata": {},
   "outputs": [],
   "source": [
    "sns.pairplot(df_application,vars =['AMT_CREDIT_in_lakhs','AMT_INCOME_TOTAL_in_lakhs','OCCUPATION_TYPE'],diag_kind = 'hist', hue = 'TARGET',plot_kws = {'alpha':0.6, 's': 80, 'edgecolor': 'k'},height = 4)\n",
    "plt.show()"
   ]
  },
  {
   "cell_type": "code",
   "execution_count": null,
   "id": "16bb3015",
   "metadata": {},
   "outputs": [],
   "source": [
    "plt.figure(figsize=(25, 5))\n",
    "sns.heatmap(Tagget_Variable_Payment_Difficulty.corr(),cmap=\"YlGnBu\")\n",
    "plt.title('Payment_Difficulty')\n",
    "plt.show()"
   ]
  },
  {
   "cell_type": "code",
   "execution_count": null,
   "id": "60b29296",
   "metadata": {},
   "outputs": [],
   "source": [
    "df_3=Tagget_Variable_Payment_Difficulty[['CNT_CHILDREN','AMT_ANNUITY','AMT_GOODS_PRICE','AGE_IN_YEARS','EMPLOYMENT_YEARS','AMT_INCOME_TOTAL_in_lakhs','AMT_CREDIT_in_lakhs','CNT_FAM_MEMBERS','FLAG_OWN_CAR','FLAG_OWN_REALTY','NAME_TYPE_SUITE','NAME_INCOME_TYPE','NAME_EDUCATION_TYPE','NAME_FAMILY_STATUS','OCCUPATION_TYPE','NAME_HOUSING_TYPE']]\n",
    "plt.figure(figsize=(25, 5))\n",
    "sns.heatmap(df_3.corr(method = 'pearson'),cmap = 'YlGnBu',annot=True)\n",
    "plt.title('Payment_Difficulty')\n",
    "plt.show()"
   ]
  },
  {
   "cell_type": "code",
   "execution_count": null,
   "id": "c23ce6f9",
   "metadata": {},
   "outputs": [],
   "source": []
  },
  {
   "cell_type": "code",
   "execution_count": null,
   "id": "2820a2dc",
   "metadata": {},
   "outputs": [],
   "source": []
  },
  {
   "cell_type": "code",
   "execution_count": null,
   "id": "de4a9969",
   "metadata": {},
   "outputs": [],
   "source": []
  },
  {
   "cell_type": "code",
   "execution_count": null,
   "id": "b1192e56",
   "metadata": {},
   "outputs": [],
   "source": []
  }
 ],
 "metadata": {
  "kernelspec": {
   "display_name": "Python 3 (ipykernel)",
   "language": "python",
   "name": "python3"
  },
  "language_info": {
   "codemirror_mode": {
    "name": "ipython",
    "version": 3
   },
   "file_extension": ".py",
   "mimetype": "text/x-python",
   "name": "python",
   "nbconvert_exporter": "python",
   "pygments_lexer": "ipython3",
   "version": "3.9.12"
  }
 },
 "nbformat": 4,
 "nbformat_minor": 5
}
